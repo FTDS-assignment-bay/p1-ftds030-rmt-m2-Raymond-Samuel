{
  "cells": [
    {
      "cell_type": "markdown",
      "metadata": {
        "id": "wnhkZQjfZZ65"
      },
      "source": [
        "# 1. Perkenalan\n",
        "## Nama : Raymond Samuel\n",
        "## Batch : RMT-030\n",
        "## Dataset : Mushroom\n",
        "### Dataset url : https://archive.ics.uci.edu/dataset/73/mushroom\n",
        "### Deployment url : https://huggingface.co/spaces/Raymond-Samuel/Milestone-2-Raymond-Samuel\n",
        "## Objective :"
      ]
    },
    {
      "cell_type": "markdown",
      "metadata": {
        "id": "2yNHhaUyWw6d"
      },
      "source": [
        "# 2. Import Libraries"
      ]
    },
    {
      "cell_type": "code",
      "execution_count": 1,
      "metadata": {
        "colab": {
          "base_uri": "https://localhost:8080/"
        },
        "id": "0v6gqXpH92HT",
        "outputId": "2824c3bf-7101-4bdb-8d3d-33e09e8f95e9"
      },
      "outputs": [],
      "source": [
        "# !pip install ucimlrepo"
      ]
    },
    {
      "cell_type": "code",
      "execution_count": 2,
      "metadata": {
        "id": "2tNTrGUcXU_M"
      },
      "outputs": [],
      "source": [
        "import pandas as pd\n",
        "import numpy as np\n",
        "import matplotlib.pyplot as plt\n",
        "import seaborn as sns\n",
        "\n",
        "# dataset import\n",
        "from ucimlrepo import fetch_ucirepo\n",
        "\n",
        "from sklearn.model_selection import train_test_split\n",
        "from sklearn.preprocessing import OneHotEncoder, OrdinalEncoder, LabelEncoder\n",
        "from sklearn.decomposition import PCA\n",
        "\n",
        "from sklearn.compose import ColumnTransformer, make_column_selector as selector\n",
        "from sklearn.pipeline import Pipeline\n",
        "from sklearn.svm import SVC\n",
        "from sklearn.tree import DecisionTreeClassifier\n",
        "from sklearn.ensemble import RandomForestClassifier\n",
        "from xgboost import XGBClassifier\n",
        "\n",
        "from sklearn.model_selection import GridSearchCV, cross_val_score\n",
        "from sklearn.metrics import classification_report, accuracy_score, confusion_matrix, roc_auc_score, f1_score"
      ]
    },
    {
      "cell_type": "markdown",
      "metadata": {
        "id": "YjOeG7PJX21J"
      },
      "source": [
        "# 3. Data Loading"
      ]
    },
    {
      "cell_type": "code",
      "execution_count": 3,
      "metadata": {
        "colab": {
          "base_uri": "https://localhost:8080/"
        },
        "id": "P7qVINhE9mRm",
        "outputId": "61e02c01-179e-4614-a965-c01bcebfc7b1"
      },
      "outputs": [
        {
          "name": "stdout",
          "output_type": "stream",
          "text": [
            "{'uci_id': 73, 'name': 'Mushroom', 'repository_url': 'https://archive.ics.uci.edu/dataset/73/mushroom', 'data_url': 'https://archive.ics.uci.edu/static/public/73/data.csv', 'abstract': 'From Audobon Society Field Guide; mushrooms described in terms of physical characteristics; classification: poisonous or edible', 'area': 'Biology', 'tasks': ['Classification'], 'characteristics': ['Multivariate'], 'num_instances': 8124, 'num_features': 22, 'feature_types': ['Categorical'], 'demographics': [], 'target_col': ['poisonous'], 'index_col': None, 'has_missing_values': 'yes', 'missing_values_symbol': 'NaN', 'year_of_dataset_creation': 1981, 'last_updated': 'Thu Aug 10 2023', 'dataset_doi': '10.24432/C5959T', 'creators': [], 'intro_paper': None, 'additional_info': {'summary': \"This data set includes descriptions of hypothetical samples corresponding to 23 species of gilled mushrooms in the Agaricus and Lepiota Family (pp. 500-525).  Each species is identified as definitely edible, definitely poisonous, or of unknown edibility and not recommended.  This latter class was combined with the poisonous one.  The Guide clearly states that there is no simple rule for determining the edibility of a mushroom; no rule like ``leaflets three, let it be'' for Poisonous Oak and Ivy.\", 'purpose': None, 'funded_by': None, 'instances_represent': None, 'recommended_data_splits': None, 'sensitive_data': None, 'preprocessing_description': None, 'variable_info': '     1. cap-shape:                bell=b,conical=c,convex=x,flat=f, knobbed=k,sunken=s\\r\\n     2. cap-surface:              fibrous=f,grooves=g,scaly=y,smooth=s\\r\\n     3. cap-color:                brown=n,buff=b,cinnamon=c,gray=g,green=r, pink=p,purple=u,red=e,white=w,yellow=y\\r\\n     4. bruises?:                 bruises=t,no=f\\r\\n     5. odor:                     almond=a,anise=l,creosote=c,fishy=y,foul=f, musty=m,none=n,pungent=p,spicy=s\\r\\n     6. gill-attachment:          attached=a,descending=d,free=f,notched=n\\r\\n     7. gill-spacing:             close=c,crowded=w,distant=d\\r\\n     8. gill-size:                broad=b,narrow=n\\r\\n     9. gill-color:               black=k,brown=n,buff=b,chocolate=h,gray=g, green=r,orange=o,pink=p,purple=u,red=e, white=w,yellow=y\\r\\n    10. stalk-shape:              enlarging=e,tapering=t\\r\\n    11. stalk-root:               bulbous=b,club=c,cup=u,equal=e, rhizomorphs=z,rooted=r,missing=?\\r\\n    12. stalk-surface-above-ring: fibrous=f,scaly=y,silky=k,smooth=s\\r\\n    13. stalk-surface-below-ring: fibrous=f,scaly=y,silky=k,smooth=s\\r\\n    14. stalk-color-above-ring:   brown=n,buff=b,cinnamon=c,gray=g,orange=o, pink=p,red=e,white=w,yellow=y\\r\\n    15. stalk-color-below-ring:   brown=n,buff=b,cinnamon=c,gray=g,orange=o, pink=p,red=e,white=w,yellow=y\\r\\n    16. veil-type:                partial=p,universal=u\\r\\n    17. veil-color:               brown=n,orange=o,white=w,yellow=y\\r\\n    18. ring-number:              none=n,one=o,two=t\\r\\n    19. ring-type:                cobwebby=c,evanescent=e,flaring=f,large=l, none=n,pendant=p,sheathing=s,zone=z\\r\\n    20. spore-print-color:        black=k,brown=n,buff=b,chocolate=h,green=r, orange=o,purple=u,white=w,yellow=y\\r\\n    21. population:               abundant=a,clustered=c,numerous=n, scattered=s,several=v,solitary=y\\r\\n    22. habitat:                  grasses=g,leaves=l,meadows=m,paths=p, urban=u,waste=w,woods=d', 'citation': None}}\n",
            "                        name     role         type demographic  \\\n",
            "0                  poisonous   Target  Categorical        None   \n",
            "1                  cap-shape  Feature  Categorical        None   \n",
            "2                cap-surface  Feature  Categorical        None   \n",
            "3                  cap-color  Feature       Binary        None   \n",
            "4                    bruises  Feature  Categorical        None   \n",
            "5                       odor  Feature  Categorical        None   \n",
            "6            gill-attachment  Feature  Categorical        None   \n",
            "7               gill-spacing  Feature  Categorical        None   \n",
            "8                  gill-size  Feature  Categorical        None   \n",
            "9                 gill-color  Feature  Categorical        None   \n",
            "10               stalk-shape  Feature  Categorical        None   \n",
            "11                stalk-root  Feature  Categorical        None   \n",
            "12  stalk-surface-above-ring  Feature  Categorical        None   \n",
            "13  stalk-surface-below-ring  Feature  Categorical        None   \n",
            "14    stalk-color-above-ring  Feature  Categorical        None   \n",
            "15    stalk-color-below-ring  Feature  Categorical        None   \n",
            "16                 veil-type  Feature       Binary        None   \n",
            "17                veil-color  Feature  Categorical        None   \n",
            "18               ring-number  Feature  Categorical        None   \n",
            "19                 ring-type  Feature  Categorical        None   \n",
            "20         spore-print-color  Feature  Categorical        None   \n",
            "21                population  Feature  Categorical        None   \n",
            "22                   habitat  Feature  Categorical        None   \n",
            "\n",
            "                                          description units missing_values  \n",
            "0                                                None  None             no  \n",
            "1   bell=b,conical=c,convex=x,flat=f, knobbed=k,su...  None             no  \n",
            "2                fibrous=f,grooves=g,scaly=y,smooth=s  None             no  \n",
            "3   brown=n,buff=b,cinnamon=c,gray=g,green=r, pink...  None             no  \n",
            "4                                      bruises=t,no=f  None             no  \n",
            "5   almond=a,anise=l,creosote=c,fishy=y,foul=f, mu...  None             no  \n",
            "6            attached=a,descending=d,free=f,notched=n  None             no  \n",
            "7                         close=c,crowded=w,distant=d  None             no  \n",
            "8                                    broad=b,narrow=n  None             no  \n",
            "9   black=k,brown=n,buff=b,chocolate=h,gray=g, gre...  None             no  \n",
            "10                             enlarging=e,tapering=t  None             no  \n",
            "11  bulbous=b,club=c,cup=u,equal=e, rhizomorphs=z,...  None            yes  \n",
            "12                 fibrous=f,scaly=y,silky=k,smooth=s  None             no  \n",
            "13                 fibrous=f,scaly=y,silky=k,smooth=s  None             no  \n",
            "14  brown=n,buff=b,cinnamon=c,gray=g,orange=o, pin...  None             no  \n",
            "15  brown=n,buff=b,cinnamon=c,gray=g,orange=o, pin...  None             no  \n",
            "16                              partial=p,universal=u  None             no  \n",
            "17                  brown=n,orange=o,white=w,yellow=y  None             no  \n",
            "18                                 none=n,one=o,two=t  None             no  \n",
            "19  cobwebby=c,evanescent=e,flaring=f,large=l, non...  None             no  \n",
            "20  black=k,brown=n,buff=b,chocolate=h,green=r, or...  None             no  \n",
            "21  abundant=a,clustered=c,numerous=n, scattered=s...  None             no  \n",
            "22  grasses=g,leaves=l,meadows=m,paths=p, urban=u,...  None             no  \n"
          ]
        }
      ],
      "source": [
        "# fetch dataset\n",
        "mushroom = fetch_ucirepo(id=73)\n",
        "\n",
        "# data (as pandas dataframes)\n",
        "X = mushroom.data.features\n",
        "y = mushroom.data.targets\n",
        "df = pd.concat([X, y], axis=1)\n",
        "\n",
        "# metadata\n",
        "print(mushroom.metadata)\n",
        "\n",
        "# variable information\n",
        "print(mushroom.variables)"
      ]
    },
    {
      "cell_type": "code",
      "execution_count": 4,
      "metadata": {
        "id": "-gl51l4Zw4bP"
      },
      "outputs": [],
      "source": [
        "# Define mapping dictionaries\n",
        "cap_shape_dict = {'b': 'bell', 'c': 'conical', 'x': 'convex', 'f': 'flat', 'k': 'knobbed', 's': 'sunken'}\n",
        "cap_surface_dict = {'f': 'fibrous', 'g': 'grooves', 'y': 'scaly', 's': 'smooth'}\n",
        "cap_color_dict = {'n': 'brown', 'b': 'buff', 'c': 'cinnamon', 'g': 'gray', 'r': 'green', 'p': 'pink', 'u': 'purple', 'e': 'red', 'w': 'white', 'y': 'yellow'}\n",
        "bruises_dict = {'t': 'bruises', 'f': 'no'}\n",
        "odor_dict = {'a': 'almond', 'l': 'anise', 'c': 'creosote', 'y': 'fishy', 'f': 'foul', 'm': 'musty', 'n': 'none', 'p': 'pungent', 's': 'spicy'}\n",
        "gill_attachment_dict = {'a': 'attached', 'd': 'descending', 'f': 'free', 'n': 'notched'}\n",
        "gill_spacing_dict = {'c': 'close', 'w': 'crowded', 'd': 'distant'}\n",
        "gill_size_dict = {'b': 'broad', 'n': 'narrow'}\n",
        "gill_color_dict = {'k': 'black', 'n': 'brown', 'b': 'buff', 'h': 'chocolate', 'g': 'gray', 'r': 'green', 'o': 'orange', 'p': 'pink', 'u': 'purple', 'e': 'red', 'w': 'white', 'y': 'yellow'}\n",
        "stalk_shape_dict = {'e': 'enlarging', 't': 'tapering'}\n",
        "stalk_root_dict = {'b': 'bulbous', 'c': 'club', 'u': 'cup', 'e': 'equal', 'z': 'rhizomorphs', 'r': 'rooted', '?': 'missing'}\n",
        "stalk_surface_above_ring_dict = {'f': 'fibrous', 'y': 'scaly', 'k': 'silky', 's': 'smooth'}\n",
        "stalk_surface_below_ring_dict = {'f': 'fibrous', 'y': 'scaly', 'k': 'silky', 's': 'smooth'}\n",
        "stalk_color_above_ring_dict = {'n': 'brown', 'b': 'buff', 'c': 'cinnamon', 'g': 'gray', 'o': 'orange', 'p': 'pink', 'e': 'red', 'w': 'white', 'y': 'yellow'}\n",
        "stalk_color_below_ring_dict = {'n': 'brown', 'b': 'buff', 'c': 'cinnamon', 'g': 'gray', 'o': 'orange', 'p': 'pink', 'e': 'red', 'w': 'white', 'y': 'yellow'}\n",
        "veil_type_dict = {'p': 'partial', 'u': 'universal'}\n",
        "veil_color_dict = {'n': 'brown', 'o': 'orange', 'w': 'white', 'y': 'yellow'}\n",
        "ring_number_dict = {'n': 'none', 'o': 'one', 't': 'two'}\n",
        "ring_type_dict = {'c': 'cobwebby', 'e': 'evanescent', 'f': 'flaring', 'l': 'large', 'n': 'none', 'p': 'pendant', 's': 'sheathing', 'z': 'zone'}\n",
        "spore_print_color_dict = {'k': 'black', 'n': 'brown', 'b': 'buff', 'h': 'chocolate', 'r': 'green', 'o': 'orange', 'u': 'purple', 'w': 'white', 'y': 'yellow'}\n",
        "population_dict = {'a': 'abundant', 'c': 'clustered', 'n': 'numerous', 's': 'scattered', 'v': 'several', 'y': 'solitary'}\n",
        "habitat_dict = {'g': 'grasses', 'l': 'leaves', 'm': 'meadows', 'p': 'paths', 'u': 'urban', 'w': 'waste', 'd': 'woods'}\n",
        "poisonous_dict = {'e': 'edible', 'p': 'poisonous'}\n",
        "\n",
        "# Apply the mapping to the dataframe\n",
        "df['cap-shape'] = df['cap-shape'].map(cap_shape_dict)\n",
        "df['cap-surface'] = df['cap-surface'].map(cap_surface_dict)\n",
        "df['cap-color'] = df['cap-color'].map(cap_color_dict)\n",
        "df['bruises'] = df['bruises'].map(bruises_dict)\n",
        "df['odor'] = df['odor'].map(odor_dict)\n",
        "df['gill-attachment'] = df['gill-attachment'].map(gill_attachment_dict)\n",
        "df['gill-spacing'] = df['gill-spacing'].map(gill_spacing_dict)\n",
        "df['gill-size'] = df['gill-size'].map(gill_size_dict)\n",
        "df['gill-color'] = df['gill-color'].map(gill_color_dict)\n",
        "df['stalk-shape'] = df['stalk-shape'].map(stalk_shape_dict)\n",
        "df['stalk-root'] = df['stalk-root'].map(stalk_root_dict)\n",
        "df['stalk-surface-above-ring'] = df['stalk-surface-above-ring'].map(stalk_surface_above_ring_dict)\n",
        "df['stalk-surface-below-ring'] = df['stalk-surface-below-ring'].map(stalk_surface_below_ring_dict)\n",
        "df['stalk-color-above-ring'] = df['stalk-color-above-ring'].map(stalk_color_above_ring_dict)\n",
        "df['stalk-color-below-ring'] = df['stalk-color-below-ring'].map(stalk_color_below_ring_dict)\n",
        "df['veil-type'] = df['veil-type'].map(veil_type_dict)\n",
        "df['veil-color'] = df['veil-color'].map(veil_color_dict)\n",
        "df['ring-number'] = df['ring-number'].map(ring_number_dict)\n",
        "df['ring-type'] = df['ring-type'].map(ring_type_dict)\n",
        "df['spore-print-color'] = df['spore-print-color'].map(spore_print_color_dict)\n",
        "df['population'] = df['population'].map(population_dict)\n",
        "df['habitat'] = df['habitat'].map(habitat_dict)\n",
        "df['poisonous'] = df['poisonous'].map(poisonous_dict)\n"
      ]
    },
    {
      "cell_type": "markdown",
      "metadata": {
        "id": "4AJD2WseoSwf"
      },
      "source": [
        "# 4. EDA"
      ]
    },
    {
      "cell_type": "code",
      "execution_count": 5,
      "metadata": {
        "colab": {
          "base_uri": "https://localhost:8080/",
          "height": 496
        },
        "id": "EcTj6NIY0Jxo",
        "outputId": "29ca6bdc-c511-483c-e295-4362d9da9998"
      },
      "outputs": [
        {
          "data": {
            "text/html": [
              "<div>\n",
              "<style scoped>\n",
              "    .dataframe tbody tr th:only-of-type {\n",
              "        vertical-align: middle;\n",
              "    }\n",
              "\n",
              "    .dataframe tbody tr th {\n",
              "        vertical-align: top;\n",
              "    }\n",
              "\n",
              "    .dataframe thead th {\n",
              "        text-align: right;\n",
              "    }\n",
              "</style>\n",
              "<table border=\"1\" class=\"dataframe\">\n",
              "  <thead>\n",
              "    <tr style=\"text-align: right;\">\n",
              "      <th></th>\n",
              "      <th>cap-shape</th>\n",
              "      <th>cap-surface</th>\n",
              "      <th>cap-color</th>\n",
              "      <th>bruises</th>\n",
              "      <th>odor</th>\n",
              "      <th>gill-attachment</th>\n",
              "      <th>gill-spacing</th>\n",
              "      <th>gill-size</th>\n",
              "      <th>gill-color</th>\n",
              "      <th>stalk-shape</th>\n",
              "      <th>...</th>\n",
              "      <th>stalk-color-above-ring</th>\n",
              "      <th>stalk-color-below-ring</th>\n",
              "      <th>veil-type</th>\n",
              "      <th>veil-color</th>\n",
              "      <th>ring-number</th>\n",
              "      <th>ring-type</th>\n",
              "      <th>spore-print-color</th>\n",
              "      <th>population</th>\n",
              "      <th>habitat</th>\n",
              "      <th>poisonous</th>\n",
              "    </tr>\n",
              "  </thead>\n",
              "  <tbody>\n",
              "    <tr>\n",
              "      <th>0</th>\n",
              "      <td>convex</td>\n",
              "      <td>smooth</td>\n",
              "      <td>brown</td>\n",
              "      <td>bruises</td>\n",
              "      <td>pungent</td>\n",
              "      <td>free</td>\n",
              "      <td>close</td>\n",
              "      <td>narrow</td>\n",
              "      <td>black</td>\n",
              "      <td>enlarging</td>\n",
              "      <td>...</td>\n",
              "      <td>white</td>\n",
              "      <td>white</td>\n",
              "      <td>partial</td>\n",
              "      <td>white</td>\n",
              "      <td>one</td>\n",
              "      <td>pendant</td>\n",
              "      <td>black</td>\n",
              "      <td>scattered</td>\n",
              "      <td>urban</td>\n",
              "      <td>poisonous</td>\n",
              "    </tr>\n",
              "    <tr>\n",
              "      <th>1</th>\n",
              "      <td>convex</td>\n",
              "      <td>smooth</td>\n",
              "      <td>yellow</td>\n",
              "      <td>bruises</td>\n",
              "      <td>almond</td>\n",
              "      <td>free</td>\n",
              "      <td>close</td>\n",
              "      <td>broad</td>\n",
              "      <td>black</td>\n",
              "      <td>enlarging</td>\n",
              "      <td>...</td>\n",
              "      <td>white</td>\n",
              "      <td>white</td>\n",
              "      <td>partial</td>\n",
              "      <td>white</td>\n",
              "      <td>one</td>\n",
              "      <td>pendant</td>\n",
              "      <td>brown</td>\n",
              "      <td>numerous</td>\n",
              "      <td>grasses</td>\n",
              "      <td>edible</td>\n",
              "    </tr>\n",
              "    <tr>\n",
              "      <th>2</th>\n",
              "      <td>bell</td>\n",
              "      <td>smooth</td>\n",
              "      <td>white</td>\n",
              "      <td>bruises</td>\n",
              "      <td>anise</td>\n",
              "      <td>free</td>\n",
              "      <td>close</td>\n",
              "      <td>broad</td>\n",
              "      <td>brown</td>\n",
              "      <td>enlarging</td>\n",
              "      <td>...</td>\n",
              "      <td>white</td>\n",
              "      <td>white</td>\n",
              "      <td>partial</td>\n",
              "      <td>white</td>\n",
              "      <td>one</td>\n",
              "      <td>pendant</td>\n",
              "      <td>brown</td>\n",
              "      <td>numerous</td>\n",
              "      <td>meadows</td>\n",
              "      <td>edible</td>\n",
              "    </tr>\n",
              "    <tr>\n",
              "      <th>3</th>\n",
              "      <td>convex</td>\n",
              "      <td>scaly</td>\n",
              "      <td>white</td>\n",
              "      <td>bruises</td>\n",
              "      <td>pungent</td>\n",
              "      <td>free</td>\n",
              "      <td>close</td>\n",
              "      <td>narrow</td>\n",
              "      <td>brown</td>\n",
              "      <td>enlarging</td>\n",
              "      <td>...</td>\n",
              "      <td>white</td>\n",
              "      <td>white</td>\n",
              "      <td>partial</td>\n",
              "      <td>white</td>\n",
              "      <td>one</td>\n",
              "      <td>pendant</td>\n",
              "      <td>black</td>\n",
              "      <td>scattered</td>\n",
              "      <td>urban</td>\n",
              "      <td>poisonous</td>\n",
              "    </tr>\n",
              "    <tr>\n",
              "      <th>4</th>\n",
              "      <td>convex</td>\n",
              "      <td>smooth</td>\n",
              "      <td>gray</td>\n",
              "      <td>no</td>\n",
              "      <td>none</td>\n",
              "      <td>free</td>\n",
              "      <td>crowded</td>\n",
              "      <td>broad</td>\n",
              "      <td>black</td>\n",
              "      <td>tapering</td>\n",
              "      <td>...</td>\n",
              "      <td>white</td>\n",
              "      <td>white</td>\n",
              "      <td>partial</td>\n",
              "      <td>white</td>\n",
              "      <td>one</td>\n",
              "      <td>evanescent</td>\n",
              "      <td>brown</td>\n",
              "      <td>abundant</td>\n",
              "      <td>grasses</td>\n",
              "      <td>edible</td>\n",
              "    </tr>\n",
              "    <tr>\n",
              "      <th>...</th>\n",
              "      <td>...</td>\n",
              "      <td>...</td>\n",
              "      <td>...</td>\n",
              "      <td>...</td>\n",
              "      <td>...</td>\n",
              "      <td>...</td>\n",
              "      <td>...</td>\n",
              "      <td>...</td>\n",
              "      <td>...</td>\n",
              "      <td>...</td>\n",
              "      <td>...</td>\n",
              "      <td>...</td>\n",
              "      <td>...</td>\n",
              "      <td>...</td>\n",
              "      <td>...</td>\n",
              "      <td>...</td>\n",
              "      <td>...</td>\n",
              "      <td>...</td>\n",
              "      <td>...</td>\n",
              "      <td>...</td>\n",
              "      <td>...</td>\n",
              "    </tr>\n",
              "    <tr>\n",
              "      <th>8119</th>\n",
              "      <td>knobbed</td>\n",
              "      <td>smooth</td>\n",
              "      <td>brown</td>\n",
              "      <td>no</td>\n",
              "      <td>none</td>\n",
              "      <td>attached</td>\n",
              "      <td>close</td>\n",
              "      <td>broad</td>\n",
              "      <td>yellow</td>\n",
              "      <td>enlarging</td>\n",
              "      <td>...</td>\n",
              "      <td>orange</td>\n",
              "      <td>orange</td>\n",
              "      <td>partial</td>\n",
              "      <td>orange</td>\n",
              "      <td>one</td>\n",
              "      <td>pendant</td>\n",
              "      <td>buff</td>\n",
              "      <td>clustered</td>\n",
              "      <td>leaves</td>\n",
              "      <td>edible</td>\n",
              "    </tr>\n",
              "    <tr>\n",
              "      <th>8120</th>\n",
              "      <td>convex</td>\n",
              "      <td>smooth</td>\n",
              "      <td>brown</td>\n",
              "      <td>no</td>\n",
              "      <td>none</td>\n",
              "      <td>attached</td>\n",
              "      <td>close</td>\n",
              "      <td>broad</td>\n",
              "      <td>yellow</td>\n",
              "      <td>enlarging</td>\n",
              "      <td>...</td>\n",
              "      <td>orange</td>\n",
              "      <td>orange</td>\n",
              "      <td>partial</td>\n",
              "      <td>brown</td>\n",
              "      <td>one</td>\n",
              "      <td>pendant</td>\n",
              "      <td>buff</td>\n",
              "      <td>several</td>\n",
              "      <td>leaves</td>\n",
              "      <td>edible</td>\n",
              "    </tr>\n",
              "    <tr>\n",
              "      <th>8121</th>\n",
              "      <td>flat</td>\n",
              "      <td>smooth</td>\n",
              "      <td>brown</td>\n",
              "      <td>no</td>\n",
              "      <td>none</td>\n",
              "      <td>attached</td>\n",
              "      <td>close</td>\n",
              "      <td>broad</td>\n",
              "      <td>brown</td>\n",
              "      <td>enlarging</td>\n",
              "      <td>...</td>\n",
              "      <td>orange</td>\n",
              "      <td>orange</td>\n",
              "      <td>partial</td>\n",
              "      <td>orange</td>\n",
              "      <td>one</td>\n",
              "      <td>pendant</td>\n",
              "      <td>buff</td>\n",
              "      <td>clustered</td>\n",
              "      <td>leaves</td>\n",
              "      <td>edible</td>\n",
              "    </tr>\n",
              "    <tr>\n",
              "      <th>8122</th>\n",
              "      <td>knobbed</td>\n",
              "      <td>scaly</td>\n",
              "      <td>brown</td>\n",
              "      <td>no</td>\n",
              "      <td>fishy</td>\n",
              "      <td>free</td>\n",
              "      <td>close</td>\n",
              "      <td>narrow</td>\n",
              "      <td>buff</td>\n",
              "      <td>tapering</td>\n",
              "      <td>...</td>\n",
              "      <td>white</td>\n",
              "      <td>white</td>\n",
              "      <td>partial</td>\n",
              "      <td>white</td>\n",
              "      <td>one</td>\n",
              "      <td>evanescent</td>\n",
              "      <td>white</td>\n",
              "      <td>several</td>\n",
              "      <td>leaves</td>\n",
              "      <td>poisonous</td>\n",
              "    </tr>\n",
              "    <tr>\n",
              "      <th>8123</th>\n",
              "      <td>convex</td>\n",
              "      <td>smooth</td>\n",
              "      <td>brown</td>\n",
              "      <td>no</td>\n",
              "      <td>none</td>\n",
              "      <td>attached</td>\n",
              "      <td>close</td>\n",
              "      <td>broad</td>\n",
              "      <td>yellow</td>\n",
              "      <td>enlarging</td>\n",
              "      <td>...</td>\n",
              "      <td>orange</td>\n",
              "      <td>orange</td>\n",
              "      <td>partial</td>\n",
              "      <td>orange</td>\n",
              "      <td>one</td>\n",
              "      <td>pendant</td>\n",
              "      <td>orange</td>\n",
              "      <td>clustered</td>\n",
              "      <td>leaves</td>\n",
              "      <td>edible</td>\n",
              "    </tr>\n",
              "  </tbody>\n",
              "</table>\n",
              "<p>8124 rows × 23 columns</p>\n",
              "</div>"
            ],
            "text/plain": [
              "     cap-shape cap-surface cap-color  bruises     odor gill-attachment  \\\n",
              "0       convex      smooth     brown  bruises  pungent            free   \n",
              "1       convex      smooth    yellow  bruises   almond            free   \n",
              "2         bell      smooth     white  bruises    anise            free   \n",
              "3       convex       scaly     white  bruises  pungent            free   \n",
              "4       convex      smooth      gray       no     none            free   \n",
              "...        ...         ...       ...      ...      ...             ...   \n",
              "8119   knobbed      smooth     brown       no     none        attached   \n",
              "8120    convex      smooth     brown       no     none        attached   \n",
              "8121      flat      smooth     brown       no     none        attached   \n",
              "8122   knobbed       scaly     brown       no    fishy            free   \n",
              "8123    convex      smooth     brown       no     none        attached   \n",
              "\n",
              "     gill-spacing gill-size gill-color stalk-shape  ...  \\\n",
              "0           close    narrow      black   enlarging  ...   \n",
              "1           close     broad      black   enlarging  ...   \n",
              "2           close     broad      brown   enlarging  ...   \n",
              "3           close    narrow      brown   enlarging  ...   \n",
              "4         crowded     broad      black    tapering  ...   \n",
              "...           ...       ...        ...         ...  ...   \n",
              "8119        close     broad     yellow   enlarging  ...   \n",
              "8120        close     broad     yellow   enlarging  ...   \n",
              "8121        close     broad      brown   enlarging  ...   \n",
              "8122        close    narrow       buff    tapering  ...   \n",
              "8123        close     broad     yellow   enlarging  ...   \n",
              "\n",
              "     stalk-color-above-ring stalk-color-below-ring veil-type veil-color  \\\n",
              "0                     white                  white   partial      white   \n",
              "1                     white                  white   partial      white   \n",
              "2                     white                  white   partial      white   \n",
              "3                     white                  white   partial      white   \n",
              "4                     white                  white   partial      white   \n",
              "...                     ...                    ...       ...        ...   \n",
              "8119                 orange                 orange   partial     orange   \n",
              "8120                 orange                 orange   partial      brown   \n",
              "8121                 orange                 orange   partial     orange   \n",
              "8122                  white                  white   partial      white   \n",
              "8123                 orange                 orange   partial     orange   \n",
              "\n",
              "     ring-number   ring-type spore-print-color population  habitat  poisonous  \n",
              "0            one     pendant             black  scattered    urban  poisonous  \n",
              "1            one     pendant             brown   numerous  grasses     edible  \n",
              "2            one     pendant             brown   numerous  meadows     edible  \n",
              "3            one     pendant             black  scattered    urban  poisonous  \n",
              "4            one  evanescent             brown   abundant  grasses     edible  \n",
              "...          ...         ...               ...        ...      ...        ...  \n",
              "8119         one     pendant              buff  clustered   leaves     edible  \n",
              "8120         one     pendant              buff    several   leaves     edible  \n",
              "8121         one     pendant              buff  clustered   leaves     edible  \n",
              "8122         one  evanescent             white    several   leaves  poisonous  \n",
              "8123         one     pendant            orange  clustered   leaves     edible  \n",
              "\n",
              "[8124 rows x 23 columns]"
            ]
          },
          "execution_count": 5,
          "metadata": {},
          "output_type": "execute_result"
        }
      ],
      "source": [
        "df"
      ]
    },
    {
      "cell_type": "markdown",
      "metadata": {
        "id": "WKbX_-a8oZ0i"
      },
      "source": [
        "# 5. Feature Engineering"
      ]
    },
    {
      "cell_type": "markdown",
      "metadata": {
        "id": "J3FEQ_KOobz0"
      },
      "source": [
        "## Handling Cardinality"
      ]
    },
    {
      "cell_type": "code",
      "execution_count": 6,
      "metadata": {
        "colab": {
          "base_uri": "https://localhost:8080/",
          "height": 771
        },
        "id": "O8D7ekbPoemx",
        "outputId": "29de71a8-ae8e-4747-88bc-83a3a9e324e8"
      },
      "outputs": [
        {
          "data": {
            "text/html": [
              "<div>\n",
              "<style scoped>\n",
              "    .dataframe tbody tr th:only-of-type {\n",
              "        vertical-align: middle;\n",
              "    }\n",
              "\n",
              "    .dataframe tbody tr th {\n",
              "        vertical-align: top;\n",
              "    }\n",
              "\n",
              "    .dataframe thead th {\n",
              "        text-align: right;\n",
              "    }\n",
              "</style>\n",
              "<table border=\"1\" class=\"dataframe\">\n",
              "  <thead>\n",
              "    <tr style=\"text-align: right;\">\n",
              "      <th></th>\n",
              "      <th>nama kolom</th>\n",
              "      <th>jumlah nilai unique</th>\n",
              "      <th>nilai unique</th>\n",
              "    </tr>\n",
              "  </thead>\n",
              "  <tbody>\n",
              "    <tr>\n",
              "      <th>0</th>\n",
              "      <td>cap-shape</td>\n",
              "      <td>6</td>\n",
              "      <td>[convex, bell, sunken, flat, knobbed, conical]</td>\n",
              "    </tr>\n",
              "    <tr>\n",
              "      <th>1</th>\n",
              "      <td>cap-surface</td>\n",
              "      <td>4</td>\n",
              "      <td>[smooth, scaly, fibrous, grooves]</td>\n",
              "    </tr>\n",
              "    <tr>\n",
              "      <th>2</th>\n",
              "      <td>cap-color</td>\n",
              "      <td>10</td>\n",
              "      <td>[brown, yellow, white, gray, red, pink, buff, purple, cinnamon, green]</td>\n",
              "    </tr>\n",
              "    <tr>\n",
              "      <th>3</th>\n",
              "      <td>bruises</td>\n",
              "      <td>2</td>\n",
              "      <td>[bruises, no]</td>\n",
              "    </tr>\n",
              "    <tr>\n",
              "      <th>4</th>\n",
              "      <td>odor</td>\n",
              "      <td>9</td>\n",
              "      <td>[pungent, almond, anise, none, foul, creosote, fishy, spicy, musty]</td>\n",
              "    </tr>\n",
              "    <tr>\n",
              "      <th>5</th>\n",
              "      <td>gill-attachment</td>\n",
              "      <td>2</td>\n",
              "      <td>[free, attached]</td>\n",
              "    </tr>\n",
              "    <tr>\n",
              "      <th>6</th>\n",
              "      <td>gill-spacing</td>\n",
              "      <td>2</td>\n",
              "      <td>[close, crowded]</td>\n",
              "    </tr>\n",
              "    <tr>\n",
              "      <th>7</th>\n",
              "      <td>gill-size</td>\n",
              "      <td>2</td>\n",
              "      <td>[narrow, broad]</td>\n",
              "    </tr>\n",
              "    <tr>\n",
              "      <th>8</th>\n",
              "      <td>gill-color</td>\n",
              "      <td>12</td>\n",
              "      <td>[black, brown, gray, pink, white, chocolate, purple, red, buff, green, yellow, orange]</td>\n",
              "    </tr>\n",
              "    <tr>\n",
              "      <th>9</th>\n",
              "      <td>stalk-shape</td>\n",
              "      <td>2</td>\n",
              "      <td>[enlarging, tapering]</td>\n",
              "    </tr>\n",
              "    <tr>\n",
              "      <th>10</th>\n",
              "      <td>stalk-root</td>\n",
              "      <td>4</td>\n",
              "      <td>[equal, club, bulbous, rooted, nan]</td>\n",
              "    </tr>\n",
              "    <tr>\n",
              "      <th>11</th>\n",
              "      <td>stalk-surface-above-ring</td>\n",
              "      <td>4</td>\n",
              "      <td>[smooth, fibrous, silky, scaly]</td>\n",
              "    </tr>\n",
              "    <tr>\n",
              "      <th>12</th>\n",
              "      <td>stalk-surface-below-ring</td>\n",
              "      <td>4</td>\n",
              "      <td>[smooth, fibrous, scaly, silky]</td>\n",
              "    </tr>\n",
              "    <tr>\n",
              "      <th>13</th>\n",
              "      <td>stalk-color-above-ring</td>\n",
              "      <td>9</td>\n",
              "      <td>[white, gray, pink, brown, buff, red, orange, cinnamon, yellow]</td>\n",
              "    </tr>\n",
              "    <tr>\n",
              "      <th>14</th>\n",
              "      <td>stalk-color-below-ring</td>\n",
              "      <td>9</td>\n",
              "      <td>[white, pink, gray, buff, brown, red, yellow, orange, cinnamon]</td>\n",
              "    </tr>\n",
              "    <tr>\n",
              "      <th>15</th>\n",
              "      <td>veil-type</td>\n",
              "      <td>1</td>\n",
              "      <td>[partial]</td>\n",
              "    </tr>\n",
              "    <tr>\n",
              "      <th>16</th>\n",
              "      <td>veil-color</td>\n",
              "      <td>4</td>\n",
              "      <td>[white, brown, orange, yellow]</td>\n",
              "    </tr>\n",
              "    <tr>\n",
              "      <th>17</th>\n",
              "      <td>ring-number</td>\n",
              "      <td>3</td>\n",
              "      <td>[one, two, none]</td>\n",
              "    </tr>\n",
              "    <tr>\n",
              "      <th>18</th>\n",
              "      <td>ring-type</td>\n",
              "      <td>5</td>\n",
              "      <td>[pendant, evanescent, large, flaring, none]</td>\n",
              "    </tr>\n",
              "    <tr>\n",
              "      <th>19</th>\n",
              "      <td>spore-print-color</td>\n",
              "      <td>9</td>\n",
              "      <td>[black, brown, purple, chocolate, white, green, orange, yellow, buff]</td>\n",
              "    </tr>\n",
              "    <tr>\n",
              "      <th>20</th>\n",
              "      <td>population</td>\n",
              "      <td>6</td>\n",
              "      <td>[scattered, numerous, abundant, several, solitary, clustered]</td>\n",
              "    </tr>\n",
              "    <tr>\n",
              "      <th>21</th>\n",
              "      <td>habitat</td>\n",
              "      <td>7</td>\n",
              "      <td>[urban, grasses, meadows, woods, paths, waste, leaves]</td>\n",
              "    </tr>\n",
              "    <tr>\n",
              "      <th>22</th>\n",
              "      <td>poisonous</td>\n",
              "      <td>2</td>\n",
              "      <td>[poisonous, edible]</td>\n",
              "    </tr>\n",
              "  </tbody>\n",
              "</table>\n",
              "</div>"
            ],
            "text/plain": [
              "                  nama kolom  jumlah nilai unique  \\\n",
              "0                  cap-shape                    6   \n",
              "1                cap-surface                    4   \n",
              "2                  cap-color                   10   \n",
              "3                    bruises                    2   \n",
              "4                       odor                    9   \n",
              "5            gill-attachment                    2   \n",
              "6               gill-spacing                    2   \n",
              "7                  gill-size                    2   \n",
              "8                 gill-color                   12   \n",
              "9                stalk-shape                    2   \n",
              "10                stalk-root                    4   \n",
              "11  stalk-surface-above-ring                    4   \n",
              "12  stalk-surface-below-ring                    4   \n",
              "13    stalk-color-above-ring                    9   \n",
              "14    stalk-color-below-ring                    9   \n",
              "15                 veil-type                    1   \n",
              "16                veil-color                    4   \n",
              "17               ring-number                    3   \n",
              "18                 ring-type                    5   \n",
              "19         spore-print-color                    9   \n",
              "20                population                    6   \n",
              "21                   habitat                    7   \n",
              "22                 poisonous                    2   \n",
              "\n",
              "                                                                              nilai unique  \n",
              "0                                           [convex, bell, sunken, flat, knobbed, conical]  \n",
              "1                                                        [smooth, scaly, fibrous, grooves]  \n",
              "2                   [brown, yellow, white, gray, red, pink, buff, purple, cinnamon, green]  \n",
              "3                                                                            [bruises, no]  \n",
              "4                      [pungent, almond, anise, none, foul, creosote, fishy, spicy, musty]  \n",
              "5                                                                         [free, attached]  \n",
              "6                                                                         [close, crowded]  \n",
              "7                                                                          [narrow, broad]  \n",
              "8   [black, brown, gray, pink, white, chocolate, purple, red, buff, green, yellow, orange]  \n",
              "9                                                                    [enlarging, tapering]  \n",
              "10                                                     [equal, club, bulbous, rooted, nan]  \n",
              "11                                                         [smooth, fibrous, silky, scaly]  \n",
              "12                                                         [smooth, fibrous, scaly, silky]  \n",
              "13                         [white, gray, pink, brown, buff, red, orange, cinnamon, yellow]  \n",
              "14                         [white, pink, gray, buff, brown, red, yellow, orange, cinnamon]  \n",
              "15                                                                               [partial]  \n",
              "16                                                          [white, brown, orange, yellow]  \n",
              "17                                                                        [one, two, none]  \n",
              "18                                             [pendant, evanescent, large, flaring, none]  \n",
              "19                   [black, brown, purple, chocolate, white, green, orange, yellow, buff]  \n",
              "20                           [scattered, numerous, abundant, several, solitary, clustered]  \n",
              "21                                  [urban, grasses, meadows, woods, paths, waste, leaves]  \n",
              "22                                                                     [poisonous, edible]  "
            ]
          },
          "execution_count": 6,
          "metadata": {},
          "output_type": "execute_result"
        }
      ],
      "source": [
        "pd.set_option('display.max_colwidth', None)\n",
        "\n",
        "cat_cols = list(df.select_dtypes(include='object').columns)\n",
        "\n",
        "listItem = []\n",
        "for col in cat_cols:\n",
        "  listItem.append([col, df[col].nunique(), df[col].unique()])\n",
        "\n",
        "pd.DataFrame(columns=['nama kolom', 'jumlah nilai unique', 'nilai unique'], data=listItem)"
      ]
    },
    {
      "cell_type": "markdown",
      "metadata": {
        "id": "90ebGvL4sn_F"
      },
      "source": [
        "## Handling missing value"
      ]
    },
    {
      "cell_type": "code",
      "execution_count": 7,
      "metadata": {
        "colab": {
          "base_uri": "https://localhost:8080/"
        },
        "id": "wFmDMEAEsqKA",
        "outputId": "1764d7c6-ee38-4013-edd4-2071e853bdf1"
      },
      "outputs": [
        {
          "data": {
            "text/plain": [
              "cap-shape                      0\n",
              "cap-surface                    0\n",
              "cap-color                      0\n",
              "bruises                        0\n",
              "odor                           0\n",
              "gill-attachment                0\n",
              "gill-spacing                   0\n",
              "gill-size                      0\n",
              "gill-color                     0\n",
              "stalk-shape                    0\n",
              "stalk-root                  2480\n",
              "stalk-surface-above-ring       0\n",
              "stalk-surface-below-ring       0\n",
              "stalk-color-above-ring         0\n",
              "stalk-color-below-ring         0\n",
              "veil-type                      0\n",
              "veil-color                     0\n",
              "ring-number                    0\n",
              "ring-type                      0\n",
              "spore-print-color              0\n",
              "population                     0\n",
              "habitat                        0\n",
              "dtype: int64"
            ]
          },
          "execution_count": 7,
          "metadata": {},
          "output_type": "execute_result"
        }
      ],
      "source": [
        "X.isnull().sum()"
      ]
    },
    {
      "cell_type": "markdown",
      "metadata": {
        "id": "uNGK399xswTQ"
      },
      "source": [
        "Column `stalk-root` memiliki 2480 Missing value sehingga sebaiknya tidak digunakan."
      ]
    },
    {
      "cell_type": "code",
      "execution_count": 8,
      "metadata": {
        "id": "U3UrDNtes80T"
      },
      "outputs": [],
      "source": [
        "X = X.drop(columns=['stalk-root'], axis=1)"
      ]
    },
    {
      "cell_type": "code",
      "execution_count": 9,
      "metadata": {
        "colab": {
          "base_uri": "https://localhost:8080/"
        },
        "id": "tL1ZVnw2tT7v",
        "outputId": "9b58fd84-ffc6-4799-8096-626847baa376"
      },
      "outputs": [
        {
          "data": {
            "text/plain": [
              "cap-shape                   0\n",
              "cap-surface                 0\n",
              "cap-color                   0\n",
              "bruises                     0\n",
              "odor                        0\n",
              "gill-attachment             0\n",
              "gill-spacing                0\n",
              "gill-size                   0\n",
              "gill-color                  0\n",
              "stalk-shape                 0\n",
              "stalk-surface-above-ring    0\n",
              "stalk-surface-below-ring    0\n",
              "stalk-color-above-ring      0\n",
              "stalk-color-below-ring      0\n",
              "veil-type                   0\n",
              "veil-color                  0\n",
              "ring-number                 0\n",
              "ring-type                   0\n",
              "spore-print-color           0\n",
              "population                  0\n",
              "habitat                     0\n",
              "dtype: int64"
            ]
          },
          "execution_count": 9,
          "metadata": {},
          "output_type": "execute_result"
        }
      ],
      "source": [
        "X.isnull().sum()"
      ]
    },
    {
      "cell_type": "markdown",
      "metadata": {
        "id": "aAg_yhxq_ol0"
      },
      "source": [
        "## Splitting Between Train-set and Test-set"
      ]
    },
    {
      "cell_type": "code",
      "execution_count": 10,
      "metadata": {
        "colab": {
          "base_uri": "https://localhost:8080/"
        },
        "id": "eWWX0Iqg_iG5",
        "outputId": "bba2a024-c359-4bf0-9d7c-9c7340a6ae9b"
      },
      "outputs": [
        {
          "name": "stdout",
          "output_type": "stream",
          "text": [
            "Train_size:  (6499, 21)\n",
            "Test_size:  (1625, 21)\n"
          ]
        }
      ],
      "source": [
        "X_train, X_test, y_train, y_test = train_test_split(X, y, test_size = 0.2, random_state = 42)\n",
        "print('Train_size: ' , X_train.shape)\n",
        "print('Test_size: ', X_test.shape)"
      ]
    },
    {
      "cell_type": "markdown",
      "metadata": {
        "id": "u8r2vVsneNt0"
      },
      "source": [
        "## Encoding"
      ]
    },
    {
      "cell_type": "markdown",
      "metadata": {
        "id": "i6ZDcmcPtru1"
      },
      "source": [
        "Columns object berisi nilai categorical / binary multi class sehingga encoding digunakan OHE untuk X."
      ]
    },
    {
      "cell_type": "code",
      "execution_count": 11,
      "metadata": {
        "id": "oVho_BFpb494"
      },
      "outputs": [
        {
          "name": "stderr",
          "output_type": "stream",
          "text": [
            "c:\\Users\\RaymondS\\anaconda3\\envs\\Phase1\\Lib\\site-packages\\sklearn\\preprocessing\\_label.py:114: DataConversionWarning: A column-vector y was passed when a 1d array was expected. Please change the shape of y to (n_samples, ), for example using ravel().\n",
            "  y = column_or_1d(y, warn=True)\n",
            "c:\\Users\\RaymondS\\anaconda3\\envs\\Phase1\\Lib\\site-packages\\sklearn\\preprocessing\\_label.py:132: DataConversionWarning: A column-vector y was passed when a 1d array was expected. Please change the shape of y to (n_samples, ), for example using ravel().\n",
            "  y = column_or_1d(y, dtype=self.classes_.dtype, warn=True)\n"
          ]
        }
      ],
      "source": [
        "# One-hot encoding\n",
        "onehot_encoder = OneHotEncoder()\n",
        "# onehot_encoded = onehot_encoder.fit_transform(df[['cap-shape', 'cap-surface', 'cap-color', 'bruises', 'odor', 'gill-attachment', 'gill-spacing', 'gill-size', 'gill-color', 'stalk-shape', 'stalk-root', 'stalk-surface-above-ring', 'stalk-surface-below-ring', 'stalk-color-above-ring', 'stalk-color-below-ring', 'veil-type', 'veil-color', 'ring-number', 'ring-type', 'spore-print-color', 'population', 'habitat']])\n",
        "\n",
        "# Ubah label 'e' dan 'p' menjadi 0 dan 1\n",
        "label_encoder = LabelEncoder()\n",
        "y_train = label_encoder.fit_transform(y_train)\n",
        "y_test = label_encoder.transform(y_test)"
      ]
    },
    {
      "cell_type": "markdown",
      "metadata": {
        "id": "AI6WRh-SOFXa"
      },
      "source": [
        "## PCA"
      ]
    },
    {
      "cell_type": "code",
      "execution_count": 12,
      "metadata": {
        "id": "AUpiP2w2JGOJ"
      },
      "outputs": [],
      "source": [
        "# pca = PCA()\n",
        "# pca.fit(X_scaled)"
      ]
    },
    {
      "cell_type": "code",
      "execution_count": 13,
      "metadata": {},
      "outputs": [],
      "source": [
        "# # Plot the Cummulative of Explained Variance Ratio\n",
        "# plt.figure(figsize=(15, 5))\n",
        "# plt.subplot(1, 2, 1)\n",
        "# plt.grid()\n",
        "# plt.plot(range(1, 4), np.cumsum(pca.explained_variance_ratio_ * 100))\n",
        "# plt.xlabel('Number of components')\n",
        "# plt.ylabel('Explained Variance Ratio - Cummulative')\n",
        "\n",
        "# # Plot the Eigenvalues\n",
        "# plt.subplot(1, 2, 2)\n",
        "# plt.grid()\n",
        "# plt.plot(range(1, 4), pca.explained_variance_ )\n",
        "# plt.xlabel('Number of components')\n",
        "# plt.ylabel('Eigenvalues')"
      ]
    },
    {
      "cell_type": "markdown",
      "metadata": {},
      "source": [
        "## Column Transformer"
      ]
    },
    {
      "cell_type": "code",
      "execution_count": 14,
      "metadata": {},
      "outputs": [],
      "source": [
        "#Making column transformer for preprocessing\n",
        "transformer = ColumnTransformer([\n",
        "# ('scaler', StandardScaler(), selector(dtype_exclude='object')),\n",
        "('encoding', OneHotEncoder(), selector(dtype_include='object'))\n",
        "])"
      ]
    },
    {
      "cell_type": "code",
      "execution_count": 54,
      "metadata": {},
      "outputs": [
        {
          "data": {
            "text/plain": [
              "(6499, 21)"
            ]
          },
          "execution_count": 54,
          "metadata": {},
          "output_type": "execute_result"
        }
      ],
      "source": [
        "X_train.shape"
      ]
    },
    {
      "cell_type": "markdown",
      "metadata": {
        "id": "CL4HAek-065J"
      },
      "source": [
        "# Modelling"
      ]
    },
    {
      "cell_type": "code",
      "execution_count": 15,
      "metadata": {
        "id": "4BPm1e-X09Ra"
      },
      "outputs": [],
      "source": [
        "#Making pipeline for SVM\n",
        "pipe_svm = Pipeline([\n",
        "('transformer', transformer),\n",
        "('classifier', SVC()),\n",
        "])\n",
        "\n",
        "#Making pipeline for Decision Tree\n",
        "pipe_dt = Pipeline([\n",
        "('transformer', transformer),\n",
        "('classifier', DecisionTreeClassifier())\n",
        "])\n",
        "\n",
        "#Making pipeline for Random Forest\n",
        "pipe_rf = Pipeline([\n",
        "('transformer', transformer),\n",
        "('classifier', RandomForestClassifier())\n",
        "])\n",
        "\n",
        "#Making pipeline for XGBoost\n",
        "pipe_xgb = Pipeline([\n",
        "('transformer', transformer),\n",
        "('classifier', XGBClassifier())\n",
        "])"
      ]
    },
    {
      "cell_type": "markdown",
      "metadata": {
        "id": "MPtzxJaCNm-9"
      },
      "source": [
        "# Base Model Eval"
      ]
    },
    {
      "cell_type": "markdown",
      "metadata": {
        "id": "rzlPJmyeN5gn"
      },
      "source": [
        "## SVM"
      ]
    },
    {
      "cell_type": "code",
      "execution_count": 16,
      "metadata": {
        "colab": {
          "base_uri": "https://localhost:8080/"
        },
        "id": "RK0CxbaSA7W2",
        "outputId": "358e3cca-ea54-42c0-b995-d8183a24a2f7"
      },
      "outputs": [
        {
          "name": "stdout",
          "output_type": "stream",
          "text": [
            "Training Score:  1.0\n",
            "Testing Score:  1.0\n"
          ]
        }
      ],
      "source": [
        "pipe_svm.fit(X_train, y_train)\n",
        "print('Training Score: ',round(pipe_svm.score(X_train, y_train),4))\n",
        "print('Testing Score: ', round(pipe_svm.score(X_test, y_test),4))"
      ]
    },
    {
      "cell_type": "code",
      "execution_count": 17,
      "metadata": {
        "colab": {
          "base_uri": "https://localhost:8080/"
        },
        "id": "a1S6tHsvBbyB",
        "outputId": "8533b57a-845a-4739-c83c-8270de0f184a"
      },
      "outputs": [
        {
          "data": {
            "text/plain": [
              "array([0, 1, 1, ..., 1, 1, 1])"
            ]
          },
          "execution_count": 17,
          "metadata": {},
          "output_type": "execute_result"
        }
      ],
      "source": [
        "y_logreg_pred = pipe_svm.predict(X_test)\n",
        "y_logreg_pred"
      ]
    },
    {
      "cell_type": "code",
      "execution_count": 18,
      "metadata": {
        "colab": {
          "base_uri": "https://localhost:8080/"
        },
        "id": "wAm1pwYKB0e6",
        "outputId": "a48c3406-8779-418f-9b8f-16e304c08a9b"
      },
      "outputs": [
        {
          "name": "stdout",
          "output_type": "stream",
          "text": [
            "              precision    recall  f1-score   support\n",
            "\n",
            "      edible       1.00      1.00      1.00       843\n",
            "   poisonous       1.00      1.00      1.00       782\n",
            "\n",
            "    accuracy                           1.00      1625\n",
            "   macro avg       1.00      1.00      1.00      1625\n",
            "weighted avg       1.00      1.00      1.00      1625\n",
            "\n"
          ]
        }
      ],
      "source": [
        "target = ['edible', 'poisonous']\n",
        "print(classification_report(y_test, y_logreg_pred, target_names = target))"
      ]
    },
    {
      "cell_type": "code",
      "execution_count": 19,
      "metadata": {
        "colab": {
          "base_uri": "https://localhost:8080/",
          "height": 641
        },
        "id": "dscxrqDfFueZ",
        "outputId": "d00dcaf8-7fed-48cd-f66d-a81841c091be"
      },
      "outputs": [
        {
          "data": {
            "image/png": "[encoded data removed]",
            "text/plain": [
              "<Figure size 1000x700 with 2 Axes>"
            ]
          },
          "metadata": {},
          "output_type": "display_data"
        }
      ],
      "source": [
        "# Calculate the confusion matrix\n",
        "cm = confusion_matrix(y_test, y_logreg_pred)\n",
        "\n",
        "# Create a DataFrame from the confusion matrix\n",
        "cm_df = pd.DataFrame(cm, index=target, columns=target)\n",
        "\n",
        "# Plot the confusion matrix\n",
        "plt.figure(figsize=(10,7))\n",
        "sns.heatmap(cm_df, annot=True, fmt='g', cmap='Blues')\n",
        "plt.title('Confusion Matrix')\n",
        "plt.ylabel('Actual')\n",
        "plt.xlabel('Predicted')\n",
        "plt.show()"
      ]
    },
    {
      "cell_type": "code",
      "execution_count": 20,
      "metadata": {
        "colab": {
          "base_uri": "https://localhost:8080/"
        },
        "id": "m9lO2DGRF8iE",
        "outputId": "c37eeac5-dd05-42f3-ab35-930077c7a15c"
      },
      "outputs": [
        {
          "name": "stdout",
          "output_type": "stream",
          "text": [
            "F1 Score - All - Cross Validation  :  [1. 1. 1.]\n",
            "F1 Score - Mean - Cross Validation :  1.0\n",
            "F1 Score - Std - Cross Validation  :  0.0\n",
            "F1 Score - Range of Test-Set       :  1.0 - 1.0\n"
          ]
        }
      ],
      "source": [
        "#Cross Validation\n",
        "\n",
        "f1_train_cross_val = cross_val_score(pipe_svm,\n",
        "                                     X_train,\n",
        "                                     y_train,\n",
        "                                     cv=3,\n",
        "                                     scoring=\"f1\")\n",
        "\n",
        "print('F1 Score - All - Cross Validation  : ', f1_train_cross_val)\n",
        "print('F1 Score - Mean - Cross Validation : ', f1_train_cross_val.mean())\n",
        "print('F1 Score - Std - Cross Validation  : ', f1_train_cross_val.std())\n",
        "print('F1 Score - Range of Test-Set       : ', (f1_train_cross_val.mean()-f1_train_cross_val.std()) , '-', (f1_train_cross_val.mean()+f1_train_cross_val.std()))"
      ]
    },
    {
      "cell_type": "markdown",
      "metadata": {
        "id": "uIpFmle0N8PB"
      },
      "source": [
        "## Decision Tree"
      ]
    },
    {
      "cell_type": "code",
      "execution_count": 21,
      "metadata": {
        "colab": {
          "base_uri": "https://localhost:8080/"
        },
        "id": "p5OUFM6TOTEF",
        "outputId": "4f1397ed-9039-47ec-a9e3-6d5cc9987c1f"
      },
      "outputs": [
        {
          "name": "stdout",
          "output_type": "stream",
          "text": [
            "Training Score:  1.0\n",
            "Testing Score:  1.0\n"
          ]
        }
      ],
      "source": [
        "pipe_dt.fit(X_train, y_train)\n",
        "print('Training Score: ',round(pipe_dt.score(X_train, y_train),4))\n",
        "print('Testing Score: ', round(pipe_dt.score(X_test, y_test),4))"
      ]
    },
    {
      "cell_type": "code",
      "execution_count": 22,
      "metadata": {
        "colab": {
          "base_uri": "https://localhost:8080/"
        },
        "id": "8hWyicYVObKf",
        "outputId": "3afe6b4a-054d-4438-b333-7001dfe52287"
      },
      "outputs": [
        {
          "data": {
            "text/plain": [
              "array([0, 1, 1, ..., 1, 1, 1])"
            ]
          },
          "execution_count": 22,
          "metadata": {},
          "output_type": "execute_result"
        }
      ],
      "source": [
        "y_logreg_pred = pipe_dt.predict(X_test)\n",
        "y_logreg_pred"
      ]
    },
    {
      "cell_type": "code",
      "execution_count": 23,
      "metadata": {
        "colab": {
          "base_uri": "https://localhost:8080/"
        },
        "id": "OMmRYe9vOiXK",
        "outputId": "218d102c-822a-4294-a8ec-e7d1c1b4842a"
      },
      "outputs": [
        {
          "name": "stdout",
          "output_type": "stream",
          "text": [
            "              precision    recall  f1-score   support\n",
            "\n",
            "      edible       1.00      1.00      1.00       843\n",
            "   poisonous       1.00      1.00      1.00       782\n",
            "\n",
            "    accuracy                           1.00      1625\n",
            "   macro avg       1.00      1.00      1.00      1625\n",
            "weighted avg       1.00      1.00      1.00      1625\n",
            "\n"
          ]
        }
      ],
      "source": [
        "target = ['edible', 'poisonous']\n",
        "print(classification_report(y_test, y_logreg_pred, target_names = target))"
      ]
    },
    {
      "cell_type": "code",
      "execution_count": 24,
      "metadata": {
        "colab": {
          "base_uri": "https://localhost:8080/"
        },
        "id": "CEiCTxSLOmA5",
        "outputId": "6b7df653-2aff-4906-beed-9678e0592303"
      },
      "outputs": [
        {
          "name": "stdout",
          "output_type": "stream",
          "text": [
            "F1 Score - All - Cross Validation  :  [1. 1. 1.]\n",
            "F1 Score - Mean - Cross Validation :  1.0\n",
            "F1 Score - Std - Cross Validation  :  0.0\n",
            "F1 Score - Range of Test-Set       :  1.0 - 1.0\n"
          ]
        }
      ],
      "source": [
        "#Cross Validation\n",
        "f1_train_cross_val = cross_val_score(pipe_dt,\n",
        "                                     X_train,\n",
        "                                     y_train,\n",
        "                                     cv=3,\n",
        "                                     scoring=\"f1\")\n",
        "\n",
        "print('F1 Score - All - Cross Validation  : ', f1_train_cross_val)\n",
        "print('F1 Score - Mean - Cross Validation : ', f1_train_cross_val.mean())\n",
        "print('F1 Score - Std - Cross Validation  : ', f1_train_cross_val.std())\n",
        "print('F1 Score - Range of Test-Set       : ', (f1_train_cross_val.mean()-f1_train_cross_val.std()) , '-', (f1_train_cross_val.mean()+f1_train_cross_val.std()))"
      ]
    },
    {
      "cell_type": "markdown",
      "metadata": {
        "id": "46XBNSmppN0V"
      },
      "source": [
        "## Random Forest"
      ]
    },
    {
      "cell_type": "code",
      "execution_count": 25,
      "metadata": {
        "colab": {
          "base_uri": "https://localhost:8080/"
        },
        "id": "T9RaB4y0pNT3",
        "outputId": "06f5212e-7971-4698-b6f3-476f6ec5d886"
      },
      "outputs": [
        {
          "name": "stdout",
          "output_type": "stream",
          "text": [
            "Training Score:  1.0\n",
            "Testing Score:  1.0\n"
          ]
        }
      ],
      "source": [
        "pipe_rf.fit(X_train, y_train)\n",
        "print('Training Score: ',round(pipe_rf.score(X_train, y_train),4))\n",
        "print('Testing Score: ', round(pipe_rf.score(X_test, y_test),4))"
      ]
    },
    {
      "cell_type": "code",
      "execution_count": 26,
      "metadata": {
        "colab": {
          "base_uri": "https://localhost:8080/"
        },
        "id": "Rdjwzldqpf2V",
        "outputId": "0fd0c453-f5c7-4c40-ae52-324e5364c7e4"
      },
      "outputs": [
        {
          "data": {
            "text/plain": [
              "array([0, 1, 1, ..., 1, 1, 1])"
            ]
          },
          "execution_count": 26,
          "metadata": {},
          "output_type": "execute_result"
        }
      ],
      "source": [
        "y_logreg_pred = pipe_dt.predict(X_test)\n",
        "y_logreg_pred"
      ]
    },
    {
      "cell_type": "code",
      "execution_count": 27,
      "metadata": {
        "colab": {
          "base_uri": "https://localhost:8080/"
        },
        "id": "NsjWgD6Wphjj",
        "outputId": "bdcb8553-1b5c-4306-9348-862de894e92d"
      },
      "outputs": [
        {
          "name": "stdout",
          "output_type": "stream",
          "text": [
            "              precision    recall  f1-score   support\n",
            "\n",
            "      edible       1.00      1.00      1.00       843\n",
            "   poisonous       1.00      1.00      1.00       782\n",
            "\n",
            "    accuracy                           1.00      1625\n",
            "   macro avg       1.00      1.00      1.00      1625\n",
            "weighted avg       1.00      1.00      1.00      1625\n",
            "\n"
          ]
        }
      ],
      "source": [
        "target = ['edible', 'poisonous']\n",
        "print(classification_report(y_test, y_logreg_pred, target_names = target))"
      ]
    },
    {
      "cell_type": "code",
      "execution_count": 28,
      "metadata": {
        "colab": {
          "base_uri": "https://localhost:8080/"
        },
        "id": "ik_B4_-Epjwa",
        "outputId": "39323c10-cb4c-4c0f-9344-39393d7c3da1"
      },
      "outputs": [
        {
          "name": "stdout",
          "output_type": "stream",
          "text": [
            "F1 Score - All - Cross Validation  :  [1. 1. 1.]\n",
            "F1 Score - Mean - Cross Validation :  1.0\n",
            "F1 Score - Std - Cross Validation  :  0.0\n",
            "F1 Score - Range of Test-Set       :  1.0 - 1.0\n"
          ]
        }
      ],
      "source": [
        "#Cross Validation\n",
        "\n",
        "f1_train_cross_val = cross_val_score(pipe_rf,\n",
        "                                     X_train,\n",
        "                                     y_train,\n",
        "                                     cv=3,\n",
        "                                     scoring=\"f1\")\n",
        "\n",
        "print('F1 Score - All - Cross Validation  : ', f1_train_cross_val)\n",
        "print('F1 Score - Mean - Cross Validation : ', f1_train_cross_val.mean())\n",
        "print('F1 Score - Std - Cross Validation  : ', f1_train_cross_val.std())\n",
        "print('F1 Score - Range of Test-Set       : ', (f1_train_cross_val.mean()-f1_train_cross_val.std()) , '-', (f1_train_cross_val.mean()+f1_train_cross_val.std()))"
      ]
    },
    {
      "cell_type": "markdown",
      "metadata": {
        "id": "MVpnUDQ6pnKy"
      },
      "source": [
        "## XGBoost"
      ]
    },
    {
      "cell_type": "code",
      "execution_count": 29,
      "metadata": {
        "colab": {
          "base_uri": "https://localhost:8080/"
        },
        "id": "5n0YcZydpoeC",
        "outputId": "bd79790c-8854-4c04-fdb8-134ba4bbd69b"
      },
      "outputs": [
        {
          "name": "stdout",
          "output_type": "stream",
          "text": [
            "Training Score:  1.0\n",
            "Testing Score:  1.0\n"
          ]
        }
      ],
      "source": [
        "pipe_xgb.fit(X_train, y_train)\n",
        "print('Training Score: ',round(pipe_xgb.score(X_train, y_train),4))\n",
        "print('Testing Score: ', round(pipe_xgb.score(X_test, y_test),4))"
      ]
    },
    {
      "cell_type": "code",
      "execution_count": 30,
      "metadata": {
        "colab": {
          "base_uri": "https://localhost:8080/"
        },
        "id": "O7BVvskmp73o",
        "outputId": "02e94977-218d-41a4-fb32-153a56417222"
      },
      "outputs": [
        {
          "data": {
            "text/plain": [
              "array([0, 1, 1, ..., 1, 1, 1])"
            ]
          },
          "execution_count": 30,
          "metadata": {},
          "output_type": "execute_result"
        }
      ],
      "source": [
        "y_logreg_pred = pipe_xgb.predict(X_test)\n",
        "y_logreg_pred"
      ]
    },
    {
      "cell_type": "code",
      "execution_count": 31,
      "metadata": {
        "colab": {
          "base_uri": "https://localhost:8080/"
        },
        "id": "NeERymvQp9vF",
        "outputId": "cd640721-949e-4a94-a3f4-d82cb3e27ea1"
      },
      "outputs": [
        {
          "name": "stdout",
          "output_type": "stream",
          "text": [
            "              precision    recall  f1-score   support\n",
            "\n",
            "      edible       1.00      1.00      1.00       843\n",
            "   poisonous       1.00      1.00      1.00       782\n",
            "\n",
            "    accuracy                           1.00      1625\n",
            "   macro avg       1.00      1.00      1.00      1625\n",
            "weighted avg       1.00      1.00      1.00      1625\n",
            "\n"
          ]
        }
      ],
      "source": [
        "target = ['edible', 'poisonous']\n",
        "print(classification_report(y_test, y_logreg_pred, target_names = target))"
      ]
    },
    {
      "cell_type": "code",
      "execution_count": 32,
      "metadata": {
        "colab": {
          "base_uri": "https://localhost:8080/"
        },
        "id": "Hzq_dBpnp-38",
        "outputId": "fa90541b-966a-4ab2-9c89-08e982579e5d"
      },
      "outputs": [
        {
          "name": "stdout",
          "output_type": "stream",
          "text": [
            "F1 Score - All - Cross Validation  :  [1. 1. 1.]\n",
            "F1 Score - Mean - Cross Validation :  1.0\n",
            "F1 Score - Std - Cross Validation  :  0.0\n",
            "F1 Score - Range of Test-Set       :  1.0 - 1.0\n"
          ]
        }
      ],
      "source": [
        "#Cross Validation\n",
        "\n",
        "f1_train_cross_val = cross_val_score(pipe_xgb,\n",
        "                                     X_train,\n",
        "                                     y_train,\n",
        "                                     cv=3,\n",
        "                                     scoring=\"f1\")\n",
        "\n",
        "print('F1 Score - All - Cross Validation  : ', f1_train_cross_val)\n",
        "print('F1 Score - Mean - Cross Validation : ', f1_train_cross_val.mean())\n",
        "print('F1 Score - Std - Cross Validation  : ', f1_train_cross_val.std())\n",
        "print('F1 Score - Range of Test-Set       : ', (f1_train_cross_val.mean()-f1_train_cross_val.std()) , '-', (f1_train_cross_val.mean()+f1_train_cross_val.std()))"
      ]
    },
    {
      "cell_type": "markdown",
      "metadata": {},
      "source": [
        "## Best Model Comparison"
      ]
    },
    {
      "cell_type": "code",
      "execution_count": 33,
      "metadata": {},
      "outputs": [],
      "source": [
        "models = {\n",
        "    'SVM' : pipe_svm,\n",
        "    'Decision Tree' : pipe_dt,\n",
        "    'Random Forest' : pipe_rf,\n",
        "    'XGBoost' : pipe_xgb\n",
        "}\n",
        "\n",
        "metrics = {\n",
        "    'Accuracy' : accuracy_score,\n",
        "    'F1-Score' : f1_score,\n",
        "}\n",
        "\n",
        "df_model = pd.DataFrame(columns = models.keys(), index=['Accuracy', 'F1-Score'])\n",
        "\n",
        "for metric in metrics.keys():\n",
        "  for model in models.keys():\n",
        "    df_model.loc[metric, model] = metrics[metric](y_test, models[model].predict(X_test))"
      ]
    },
    {
      "cell_type": "code",
      "execution_count": 34,
      "metadata": {},
      "outputs": [
        {
          "data": {
            "text/html": [
              "<div>\n",
              "<style scoped>\n",
              "    .dataframe tbody tr th:only-of-type {\n",
              "        vertical-align: middle;\n",
              "    }\n",
              "\n",
              "    .dataframe tbody tr th {\n",
              "        vertical-align: top;\n",
              "    }\n",
              "\n",
              "    .dataframe thead th {\n",
              "        text-align: right;\n",
              "    }\n",
              "</style>\n",
              "<table border=\"1\" class=\"dataframe\">\n",
              "  <thead>\n",
              "    <tr style=\"text-align: right;\">\n",
              "      <th></th>\n",
              "      <th>SVM</th>\n",
              "      <th>Decision Tree</th>\n",
              "      <th>Random Forest</th>\n",
              "      <th>XGBoost</th>\n",
              "    </tr>\n",
              "  </thead>\n",
              "  <tbody>\n",
              "    <tr>\n",
              "      <th>Accuracy</th>\n",
              "      <td>1.0</td>\n",
              "      <td>1.0</td>\n",
              "      <td>1.0</td>\n",
              "      <td>1.0</td>\n",
              "    </tr>\n",
              "    <tr>\n",
              "      <th>F1-Score</th>\n",
              "      <td>1.0</td>\n",
              "      <td>1.0</td>\n",
              "      <td>1.0</td>\n",
              "      <td>1.0</td>\n",
              "    </tr>\n",
              "  </tbody>\n",
              "</table>\n",
              "</div>"
            ],
            "text/plain": [
              "          SVM Decision Tree Random Forest XGBoost\n",
              "Accuracy  1.0           1.0           1.0     1.0\n",
              "F1-Score  1.0           1.0           1.0     1.0"
            ]
          },
          "execution_count": 34,
          "metadata": {},
          "output_type": "execute_result"
        }
      ],
      "source": [
        "df_model"
      ]
    },
    {
      "cell_type": "code",
      "execution_count": 35,
      "metadata": {},
      "outputs": [],
      "source": [
        "models = {\n",
        "    'SVM' : pipe_svm,\n",
        "    'Decision Tree' : pipe_dt,\n",
        "    'Random Forest' : pipe_rf,\n",
        "    'XGBoost' : pipe_xgb\n",
        "}\n",
        "\n",
        "metrics = {\n",
        "    'Mean' : cross_val_score(models[model], X_train, y_train, cv = 3, scoring='f1').mean(),\n",
        "    'Std' : cross_val_score(models[model], X_train, y_train, cv = 3, scoring='f1').std()\n",
        "}\n",
        "\n",
        "df_cross_val = pd.DataFrame(columns = models.keys(), index = ['Mean', 'Std'])\n",
        "\n",
        "for i in metrics.keys():\n",
        "  for j in models.keys():\n",
        "    df_cross_val.loc[i, j] = metrics[i]"
      ]
    },
    {
      "cell_type": "code",
      "execution_count": 36,
      "metadata": {},
      "outputs": [
        {
          "data": {
            "text/html": [
              "<div>\n",
              "<style scoped>\n",
              "    .dataframe tbody tr th:only-of-type {\n",
              "        vertical-align: middle;\n",
              "    }\n",
              "\n",
              "    .dataframe tbody tr th {\n",
              "        vertical-align: top;\n",
              "    }\n",
              "\n",
              "    .dataframe thead th {\n",
              "        text-align: right;\n",
              "    }\n",
              "</style>\n",
              "<table border=\"1\" class=\"dataframe\">\n",
              "  <thead>\n",
              "    <tr style=\"text-align: right;\">\n",
              "      <th></th>\n",
              "      <th>SVM</th>\n",
              "      <th>Decision Tree</th>\n",
              "      <th>Random Forest</th>\n",
              "      <th>XGBoost</th>\n",
              "    </tr>\n",
              "  </thead>\n",
              "  <tbody>\n",
              "    <tr>\n",
              "      <th>Mean</th>\n",
              "      <td>1.0</td>\n",
              "      <td>1.0</td>\n",
              "      <td>1.0</td>\n",
              "      <td>1.0</td>\n",
              "    </tr>\n",
              "    <tr>\n",
              "      <th>Std</th>\n",
              "      <td>0.0</td>\n",
              "      <td>0.0</td>\n",
              "      <td>0.0</td>\n",
              "      <td>0.0</td>\n",
              "    </tr>\n",
              "  </tbody>\n",
              "</table>\n",
              "</div>"
            ],
            "text/plain": [
              "      SVM Decision Tree Random Forest XGBoost\n",
              "Mean  1.0           1.0           1.0     1.0\n",
              "Std   0.0           0.0           0.0     0.0"
            ]
          },
          "execution_count": 36,
          "metadata": {},
          "output_type": "execute_result"
        }
      ],
      "source": [
        "df_cross_val"
      ]
    },
    {
      "cell_type": "markdown",
      "metadata": {},
      "source": [
        "# Model Optimization Eval"
      ]
    },
    {
      "cell_type": "markdown",
      "metadata": {},
      "source": [
        "## SVM"
      ]
    },
    {
      "cell_type": "code",
      "execution_count": 37,
      "metadata": {},
      "outputs": [],
      "source": [
        "param_svm = {\n",
        "    'classifier__C': [0.1, 1, 10, 100],\n",
        "    'classifier__gamma': [1, 0.1, 0.01, 0.001],\n",
        "    'classifier__kernel': ['rbf', 'linear']\n",
        "}\n",
        "grid_svm = GridSearchCV(pipe_svm, param_svm, cv=5).fit(X_train, y_train)"
      ]
    },
    {
      "cell_type": "code",
      "execution_count": 38,
      "metadata": {},
      "outputs": [
        {
          "name": "stdout",
          "output_type": "stream",
          "text": [
            "Train Set Score :  1.0\n",
            "Test Set Score :  1.0\n",
            "{'classifier__C': 1, 'classifier__gamma': 1, 'classifier__kernel': 'rbf'}\n",
            "\n",
            "\n",
            "Pipeline(steps=[('transformer',\n",
            "                 ColumnTransformer(transformers=[('encoding', OneHotEncoder(),\n",
            "                                                  <sklearn.compose._column_transformer.make_column_selector object at 0x000001413CECA540>)])),\n",
            "                ('classifier', SVC(C=1, gamma=1))])\n",
            "\n",
            "\n",
            "Index(['mean_fit_time', 'std_fit_time', 'mean_score_time', 'std_score_time',\n",
            "       'param_classifier__C', 'param_classifier__gamma',\n",
            "       'param_classifier__kernel', 'params', 'split0_test_score',\n",
            "       'split1_test_score', 'split2_test_score', 'split3_test_score',\n",
            "       'split4_test_score', 'mean_test_score', 'std_test_score',\n",
            "       'rank_test_score'],\n",
            "      dtype='object')\n",
            "              precision    recall  f1-score   support\n",
            "\n",
            "           0       1.00      1.00      1.00       843\n",
            "           1       1.00      1.00      1.00       782\n",
            "\n",
            "    accuracy                           1.00      1625\n",
            "   macro avg       1.00      1.00      1.00      1625\n",
            "weighted avg       1.00      1.00      1.00      1625\n",
            "\n"
          ]
        }
      ],
      "source": [
        "print('Train Set Score : ', grid_svm.score(X_train, y_train))\n",
        "print('Test Set Score : ', grid_svm.score(X_test, y_test))\n",
        "\n",
        "best_param_svm = grid_svm.best_params_\n",
        "print(best_param_svm)\n",
        "print('\\n')\n",
        "best_pipe_svm = grid_svm.best_estimator_\n",
        "print(best_pipe_svm)\n",
        "print('\\n')\n",
        "result_df_svm = pd.DataFrame.from_dict(grid_svm.cv_results_, orient='columns')\n",
        "print(result_df_svm.columns)\n",
        "\n",
        "print(classification_report(y_test, best_pipe_svm.predict(X_test)))"
      ]
    },
    {
      "cell_type": "markdown",
      "metadata": {},
      "source": [
        "## Decision Tree"
      ]
    },
    {
      "cell_type": "code",
      "execution_count": 39,
      "metadata": {},
      "outputs": [],
      "source": [
        "param_dt = {\n",
        "    'classifier__max_depth': np.arange(3, 10),\n",
        "    'classifier__min_samples_split': np.arange(2, 5)\n",
        "}\n",
        "grid_dt = GridSearchCV(pipe_dt, param_dt, cv=5).fit(X_train, y_train)"
      ]
    },
    {
      "cell_type": "code",
      "execution_count": 40,
      "metadata": {},
      "outputs": [
        {
          "name": "stdout",
          "output_type": "stream",
          "text": [
            "Train Set Score :  1.0\n",
            "Test Set Score :  1.0\n",
            "{'classifier__max_depth': 9, 'classifier__min_samples_split': 2}\n",
            "\n",
            "\n",
            "Pipeline(steps=[('transformer',\n",
            "                 ColumnTransformer(transformers=[('encoding', OneHotEncoder(),\n",
            "                                                  <sklearn.compose._column_transformer.make_column_selector object at 0x000001413D7651F0>)])),\n",
            "                ('classifier', DecisionTreeClassifier(max_depth=9))])\n",
            "\n",
            "\n",
            "Index(['mean_fit_time', 'std_fit_time', 'mean_score_time', 'std_score_time',\n",
            "       'param_classifier__max_depth', 'param_classifier__min_samples_split',\n",
            "       'params', 'split0_test_score', 'split1_test_score', 'split2_test_score',\n",
            "       'split3_test_score', 'split4_test_score', 'mean_test_score',\n",
            "       'std_test_score', 'rank_test_score'],\n",
            "      dtype='object')\n",
            "              precision    recall  f1-score   support\n",
            "\n",
            "           0       1.00      1.00      1.00       843\n",
            "           1       1.00      1.00      1.00       782\n",
            "\n",
            "    accuracy                           1.00      1625\n",
            "   macro avg       1.00      1.00      1.00      1625\n",
            "weighted avg       1.00      1.00      1.00      1625\n",
            "\n"
          ]
        }
      ],
      "source": [
        "print('Train Set Score : ', grid_dt.score(X_train, y_train))\n",
        "print('Test Set Score : ', grid_dt.score(X_test, y_test))\n",
        "\n",
        "best_param_dt = grid_dt.best_params_\n",
        "print(best_param_dt)\n",
        "print('\\n')\n",
        "best_pipe_dt = grid_dt.best_estimator_\n",
        "print(best_pipe_dt)\n",
        "print('\\n')\n",
        "result_df_dt = pd.DataFrame.from_dict(grid_dt.cv_results_, orient='columns')\n",
        "print(result_df_dt.columns)\n",
        "\n",
        "print(classification_report(y_test, best_pipe_dt.predict(X_test)))"
      ]
    },
    {
      "cell_type": "markdown",
      "metadata": {},
      "source": [
        "## Random Forest"
      ]
    },
    {
      "cell_type": "code",
      "execution_count": 41,
      "metadata": {},
      "outputs": [],
      "source": [
        "##Parameter Tuning\n",
        "param_rf = {\n",
        "    'classifier__n_estimators' : np.arange(200,401, 100),\n",
        "    'classifier__max_depth' : np.arange(4,8,2)\n",
        "}\n",
        "grid_rf = GridSearchCV(pipe_rf, param_rf, cv=5).fit(X_train, y_train)"
      ]
    },
    {
      "cell_type": "code",
      "execution_count": 42,
      "metadata": {},
      "outputs": [
        {
          "name": "stdout",
          "output_type": "stream",
          "text": [
            "Train Set Score :  0.9959993845206955\n",
            "Test Set Score :  0.9987692307692307\n",
            "{'classifier__max_depth': 6, 'classifier__n_estimators': 300}\n",
            "\n",
            "\n",
            "Pipeline(steps=[('transformer',\n",
            "                 ColumnTransformer(transformers=[('encoding', OneHotEncoder(),\n",
            "                                                  <sklearn.compose._column_transformer.make_column_selector object at 0x000001413E6452E0>)])),\n",
            "                ('classifier',\n",
            "                 RandomForestClassifier(max_depth=6, n_estimators=300))])\n",
            "\n",
            "\n",
            "Index(['mean_fit_time', 'std_fit_time', 'mean_score_time', 'std_score_time',\n",
            "       'param_classifier__max_depth', 'param_classifier__n_estimators',\n",
            "       'params', 'split0_test_score', 'split1_test_score', 'split2_test_score',\n",
            "       'split3_test_score', 'split4_test_score', 'mean_test_score',\n",
            "       'std_test_score', 'rank_test_score'],\n",
            "      dtype='object')\n",
            "              precision    recall  f1-score   support\n",
            "\n",
            "           0       1.00      1.00      1.00       843\n",
            "           1       1.00      1.00      1.00       782\n",
            "\n",
            "    accuracy                           1.00      1625\n",
            "   macro avg       1.00      1.00      1.00      1625\n",
            "weighted avg       1.00      1.00      1.00      1625\n",
            "\n"
          ]
        }
      ],
      "source": [
        "print('Train Set Score : ', grid_rf.score(X_train, y_train))\n",
        "print('Test Set Score : ', grid_rf.score(X_test, y_test))\n",
        "\n",
        "best_param_rf = grid_rf.best_params_\n",
        "print(best_param_rf)\n",
        "print('\\n')\n",
        "best_pipe_rf = grid_rf.best_estimator_\n",
        "print(best_pipe_rf)\n",
        "print('\\n')\n",
        "result_df_rf = pd.DataFrame.from_dict(grid_rf.cv_results_, orient='columns')\n",
        "print(result_df_rf.columns)\n",
        "\n",
        "print(classification_report(y_test, best_pipe_rf.predict(X_test)))"
      ]
    },
    {
      "cell_type": "markdown",
      "metadata": {},
      "source": [
        "## XGB"
      ]
    },
    {
      "cell_type": "code",
      "execution_count": 43,
      "metadata": {},
      "outputs": [],
      "source": [
        "param_xgb = {\n",
        "    'classifier__n_estimators': np.arange(100, 501, 200), \n",
        "    'classifier__learning_rate': [0.01, 0.1],\n",
        "    'classifier__max_depth': np.arange(3, 7)\n",
        "}\n",
        "grid_xgb = GridSearchCV(pipe_xgb, param_xgb, cv=5).fit(X_train, y_train)"
      ]
    },
    {
      "cell_type": "code",
      "execution_count": 44,
      "metadata": {},
      "outputs": [
        {
          "name": "stdout",
          "output_type": "stream",
          "text": [
            "Train Set Score :  1.0\n",
            "Test Set Score :  1.0\n",
            "{'classifier__learning_rate': 0.01, 'classifier__max_depth': 4, 'classifier__n_estimators': 500}\n",
            "\n",
            "\n",
            "Pipeline(steps=[('transformer',\n",
            "                 ColumnTransformer(transformers=[('encoding', OneHotEncoder(),\n",
            "                                                  <sklearn.compose._column_transformer.make_column_selector object at 0x000001413E669CD0>)])),\n",
            "                ('classifier',\n",
            "                 XGBClassifier(base_score=None, booster=None, callbacks=None,\n",
            "                               colsample_bylevel=None, colsample_bynode=None,\n",
            "                               colsample_bytree=None, device=None,\n",
            "                               early_stopping_roun...\n",
            "                               feature_types=None, gamma=None, grow_policy=None,\n",
            "                               importance_type=None,\n",
            "                               interaction_constraints=None, learning_rate=0.01,\n",
            "                               max_bin=None, max_cat_threshold=None,\n",
            "                               max_cat_to_onehot=None, max_delta_step=None,\n",
            "                               max_depth=4, max_leaves=None,\n",
            "                               min_child_weight=None, missing=nan,\n",
            "                               monotone_constraints=None, multi_strategy=None,\n",
            "                               n_estimators=500, n_jobs=None,\n",
            "                               num_parallel_tree=None, random_state=None, ...))])\n",
            "\n",
            "\n",
            "Index(['mean_fit_time', 'std_fit_time', 'mean_score_time', 'std_score_time',\n",
            "       'param_classifier__learning_rate', 'param_classifier__max_depth',\n",
            "       'param_classifier__n_estimators', 'params', 'split0_test_score',\n",
            "       'split1_test_score', 'split2_test_score', 'split3_test_score',\n",
            "       'split4_test_score', 'mean_test_score', 'std_test_score',\n",
            "       'rank_test_score'],\n",
            "      dtype='object')\n",
            "              precision    recall  f1-score   support\n",
            "\n",
            "           0       1.00      1.00      1.00       843\n",
            "           1       1.00      1.00      1.00       782\n",
            "\n",
            "    accuracy                           1.00      1625\n",
            "   macro avg       1.00      1.00      1.00      1625\n",
            "weighted avg       1.00      1.00      1.00      1625\n",
            "\n"
          ]
        }
      ],
      "source": [
        "print('Train Set Score : ', grid_xgb.score(X_train, y_train))\n",
        "print('Test Set Score : ', grid_xgb.score(X_test, y_test))\n",
        "\n",
        "best_param_xgb = grid_xgb.best_params_\n",
        "print(best_param_xgb)\n",
        "print('\\n')\n",
        "best_pipe_xgb = grid_xgb.best_estimator_\n",
        "print(best_pipe_xgb)\n",
        "print('\\n')\n",
        "result_df_xgb = pd.DataFrame.from_dict(grid_xgb.cv_results_, orient='columns')\n",
        "print(result_df_xgb.columns)\n",
        "\n",
        "print(classification_report(y_test, best_pipe_xgb.predict(X_test)))"
      ]
    },
    {
      "cell_type": "markdown",
      "metadata": {},
      "source": [
        "# Model After Tuning Comparison"
      ]
    },
    {
      "cell_type": "code",
      "execution_count": 46,
      "metadata": {},
      "outputs": [],
      "source": [
        "models = {\n",
        "    'SVM' : best_pipe_svm,\n",
        "    'Decision Tree' : best_pipe_dt,\n",
        "    'Random Forest' : best_pipe_rf,\n",
        "    'XGBoost' : best_pipe_xgb\n",
        "}\n",
        "\n",
        "metrics = {\n",
        "    'Accuracy' : accuracy_score,\n",
        "    'F1-Score' : f1_score,\n",
        "}\n",
        "\n",
        "model_tuning = pd.DataFrame(columns = models.keys(), index=['Accuracy', 'F1-Score'])\n",
        "\n",
        "for metric in metrics.keys():\n",
        "  for model in models.keys():\n",
        "    model_tuning.loc[metric, model] = metrics[metric](y_test, models[model].predict(X_test))"
      ]
    },
    {
      "cell_type": "code",
      "execution_count": 47,
      "metadata": {},
      "outputs": [
        {
          "data": {
            "text/html": [
              "<div>\n",
              "<style scoped>\n",
              "    .dataframe tbody tr th:only-of-type {\n",
              "        vertical-align: middle;\n",
              "    }\n",
              "\n",
              "    .dataframe tbody tr th {\n",
              "        vertical-align: top;\n",
              "    }\n",
              "\n",
              "    .dataframe thead th {\n",
              "        text-align: right;\n",
              "    }\n",
              "</style>\n",
              "<table border=\"1\" class=\"dataframe\">\n",
              "  <thead>\n",
              "    <tr style=\"text-align: right;\">\n",
              "      <th></th>\n",
              "      <th>SVM</th>\n",
              "      <th>Decision Tree</th>\n",
              "      <th>Random Forest</th>\n",
              "      <th>XGBoost</th>\n",
              "    </tr>\n",
              "  </thead>\n",
              "  <tbody>\n",
              "    <tr>\n",
              "      <th>Accuracy</th>\n",
              "      <td>1.0</td>\n",
              "      <td>1.0</td>\n",
              "      <td>1.0</td>\n",
              "      <td>1.0</td>\n",
              "    </tr>\n",
              "    <tr>\n",
              "      <th>F1-Score</th>\n",
              "      <td>1.0</td>\n",
              "      <td>1.0</td>\n",
              "      <td>1.0</td>\n",
              "      <td>1.0</td>\n",
              "    </tr>\n",
              "  </tbody>\n",
              "</table>\n",
              "</div>"
            ],
            "text/plain": [
              "          SVM Decision Tree Random Forest XGBoost\n",
              "Accuracy  1.0           1.0           1.0     1.0\n",
              "F1-Score  1.0           1.0           1.0     1.0"
            ]
          },
          "execution_count": 47,
          "metadata": {},
          "output_type": "execute_result"
        }
      ],
      "source": [
        "df_model"
      ]
    },
    {
      "cell_type": "markdown",
      "metadata": {},
      "source": [
        "# Model Saving"
      ]
    },
    {
      "cell_type": "code",
      "execution_count": 48,
      "metadata": {},
      "outputs": [],
      "source": [
        "import pickle\n",
        "\n",
        "pickle.dump(best_pipe_rf, open('deployment/model.pkl', 'wb'))"
      ]
    },
    {
      "cell_type": "code",
      "execution_count": 49,
      "metadata": {},
      "outputs": [
        {
          "data": {
            "text/html": [
              "<div>\n",
              "<style scoped>\n",
              "    .dataframe tbody tr th:only-of-type {\n",
              "        vertical-align: middle;\n",
              "    }\n",
              "\n",
              "    .dataframe tbody tr th {\n",
              "        vertical-align: top;\n",
              "    }\n",
              "\n",
              "    .dataframe thead th {\n",
              "        text-align: right;\n",
              "    }\n",
              "</style>\n",
              "<table border=\"1\" class=\"dataframe\">\n",
              "  <thead>\n",
              "    <tr style=\"text-align: right;\">\n",
              "      <th></th>\n",
              "      <th>cap-shape</th>\n",
              "      <th>cap-surface</th>\n",
              "      <th>cap-color</th>\n",
              "      <th>bruises</th>\n",
              "      <th>odor</th>\n",
              "      <th>gill-attachment</th>\n",
              "      <th>gill-spacing</th>\n",
              "      <th>gill-size</th>\n",
              "      <th>gill-color</th>\n",
              "      <th>stalk-shape</th>\n",
              "      <th>...</th>\n",
              "      <th>stalk-color-above-ring</th>\n",
              "      <th>stalk-color-below-ring</th>\n",
              "      <th>veil-type</th>\n",
              "      <th>veil-color</th>\n",
              "      <th>ring-number</th>\n",
              "      <th>ring-type</th>\n",
              "      <th>spore-print-color</th>\n",
              "      <th>population</th>\n",
              "      <th>habitat</th>\n",
              "      <th>poisonous</th>\n",
              "    </tr>\n",
              "  </thead>\n",
              "  <tbody>\n",
              "    <tr>\n",
              "      <th>0</th>\n",
              "      <td>convex</td>\n",
              "      <td>smooth</td>\n",
              "      <td>brown</td>\n",
              "      <td>bruises</td>\n",
              "      <td>pungent</td>\n",
              "      <td>free</td>\n",
              "      <td>close</td>\n",
              "      <td>narrow</td>\n",
              "      <td>black</td>\n",
              "      <td>enlarging</td>\n",
              "      <td>...</td>\n",
              "      <td>white</td>\n",
              "      <td>white</td>\n",
              "      <td>partial</td>\n",
              "      <td>white</td>\n",
              "      <td>one</td>\n",
              "      <td>pendant</td>\n",
              "      <td>black</td>\n",
              "      <td>scattered</td>\n",
              "      <td>urban</td>\n",
              "      <td>poisonous</td>\n",
              "    </tr>\n",
              "  </tbody>\n",
              "</table>\n",
              "<p>1 rows × 23 columns</p>\n",
              "</div>"
            ],
            "text/plain": [
              "  cap-shape cap-surface cap-color  bruises     odor gill-attachment  \\\n",
              "0    convex      smooth     brown  bruises  pungent            free   \n",
              "\n",
              "  gill-spacing gill-size gill-color stalk-shape  ... stalk-color-above-ring  \\\n",
              "0        close    narrow      black   enlarging  ...                  white   \n",
              "\n",
              "  stalk-color-below-ring veil-type veil-color ring-number ring-type  \\\n",
              "0                  white   partial      white         one   pendant   \n",
              "\n",
              "  spore-print-color population habitat  poisonous  \n",
              "0             black  scattered   urban  poisonous  \n",
              "\n",
              "[1 rows x 23 columns]"
            ]
          },
          "execution_count": 49,
          "metadata": {},
          "output_type": "execute_result"
        }
      ],
      "source": [
        "df.head(1)"
      ]
    },
    {
      "cell_type": "markdown",
      "metadata": {
        "id": "RSdiZ3kAWrBc"
      },
      "source": [
        "# Conceptual Problems\n",
        "Jawab pertanyaan berikut:\n",
        "\n",
        "Jelaskan latar belakang adanya bagging dan cara kerja bagging !\n",
        "\n",
        "Jelaskan perbedaan cara kerja algoritma Random Forest dengan algoritma boosting yang Anda pilih !\n",
        "\n",
        "Jelaskan apa yang dimaksud dengan Cross Validation !"
      ]
    }
  ],
  "metadata": {
    "colab": {
      "provenance": [],
      "toc_visible": true
    },
    "kernelspec": {
      "display_name": "Python 3",
      "name": "python3"
    },
    "language_info": {
      "codemirror_mode": {
        "name": "ipython",
        "version": 3
      },
      "file_extension": ".py",
      "mimetype": "text/x-python",
      "name": "python",
      "nbconvert_exporter": "python",
      "pygments_lexer": "ipython3",
      "version": "3.12.2"
    }
  },
  "nbformat": 4,
  "nbformat_minor": 0
}
